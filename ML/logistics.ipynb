{
 "cells": [
  {
   "cell_type": "code",
   "execution_count": 1,
   "metadata": {},
   "outputs": [],
   "source": [
    "from sklearn.datasets import load_breast_cancer\n",
    "from sklearn import linear_model\n",
    "import numpy as np\n",
    "from sklearn.base import BaseEstimator, ClassifierMixin\n",
    "from sklearn.model_selection import train_test_split\n",
    "from sklearn.metrics import accuracy_score"
   ]
  },
  {
   "cell_type": "code",
   "execution_count": 4,
   "metadata": {},
   "outputs": [],
   "source": [
    "class LG_scratch(BaseEstimator, ClassifierMixin, ):\n",
    "    def __init__(self, alpha=0.0005, loop=800, weights=None):\n",
    "        self.alpha = alpha   # step\n",
    "        self.loop = loop     # Number of iterations\n",
    "        self.weights = weights # parameters \n",
    "\n",
    "    def sigmoid(self, X):\n",
    "        return 1.0 / (1 + np.exp(-X))\n",
    "\n",
    "    def fit(self, X, y):\n",
    "        self.weights = np.ones((np.shape(X)[1], 1))\n",
    "        Y = np.reshape(y, (len(y), 1))                           # reshape\n",
    "        for k in range(self.loop):\n",
    "                output = self.sigmoid(X.dot(self.weights))\n",
    "                diff = Y - output\n",
    "                self.weights += self.alpha * X.T.dot(diff)       # update weights\n",
    "        return self\n",
    "\n",
    "    def predict(self, x):                                                           # predict function\n",
    "        return [self.sigmoid(x[i, :].dot(self.weights)) > 0.5 for i in range(len(x))]\n",
    "\n",
    "    def score(self, X, y, **kwargs):\n",
    "        return accuracy_score(self.predict(X), y)"
   ]
  },
  {
   "cell_type": "code",
   "execution_count": 5,
   "metadata": {},
   "outputs": [
    {
     "name": "stdout",
     "output_type": "stream",
     "text": [
      "LogisticRegression score: 0.929825\n",
      "From my scratch score: 0.947368\n"
     ]
    },
    {
     "name": "stderr",
     "output_type": "stream",
     "text": [
      "C:\\ProgramData\\Anaconda3\\lib\\site-packages\\sklearn\\model_selection\\_split.py:2026: FutureWarning: From version 0.21, test_size will always complement train_size unless both are specified.\n",
      "  FutureWarning)\n",
      "C:\\ProgramData\\Anaconda3\\lib\\site-packages\\ipykernel_launcher.py:8: RuntimeWarning: overflow encountered in exp\n",
      "  \n"
     ]
    }
   ],
   "source": [
    "data = load_breast_cancer()\n",
    "X, y = data.data, data.target\n",
    "X_train, x_test, Y_train, y_test = train_test_split(X, y, train_size=0.9, random_state=20)\n",
    "logistic = linear_model.LogisticRegression()\n",
    "print('LogisticRegression score: %f' % logistic.fit(X_train, Y_train).score(x_test, y_test))\n",
    "\n",
    "scratch = LG_scratch()\n",
    "print('From my scratch score: %f' % scratch.fit(X_train, Y_train).score(x_test, y_test))"
   ]
  },
  {
   "cell_type": "code",
   "execution_count": null,
   "metadata": {},
   "outputs": [],
   "source": []
  }
 ],
 "metadata": {
  "kernelspec": {
   "display_name": "Python 3",
   "language": "python",
   "name": "python3"
  },
  "language_info": {
   "codemirror_mode": {
    "name": "ipython",
    "version": 3
   },
   "file_extension": ".py",
   "mimetype": "text/x-python",
   "name": "python",
   "nbconvert_exporter": "python",
   "pygments_lexer": "ipython3",
   "version": "3.6.4"
  }
 },
 "nbformat": 4,
 "nbformat_minor": 2
}
