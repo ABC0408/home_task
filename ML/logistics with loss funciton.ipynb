{
 "cells": [
  {
   "cell_type": "code",
   "execution_count": 1,
   "metadata": {},
   "outputs": [],
   "source": [
    "from sklearn.datasets import load_breast_cancer\n",
    "from sklearn import linear_model\n",
    "import numpy as np\n",
    "from sklearn.base import BaseEstimator, ClassifierMixin\n",
    "from sklearn.model_selection import train_test_split\n",
    "from sklearn.metrics import accuracy_score"
   ]
  },
  {
   "cell_type": "code",
   "execution_count": 4,
   "metadata": {},
   "outputs": [],
   "source": [
    "class LG_scratch(BaseEstimator, ClassifierMixin, ):\n",
    "    def __init__(self, alpha=0.1, loop=500, weights=None, l2=0.001, epsilon=1e-4):\n",
    "        self.alpha = alpha   # step\n",
    "        self.loop = loop     # Number of iterations\n",
    "        self.weights = weights # parameters \n",
    "        self.l2 = l2           # l2 norm\n",
    "        self.epsilon = epsilon\n",
    "\n",
    "    def sigmoid(self, X):            # sigmoid function\n",
    "        return 1.0 / (1 + np.exp(-X))\n",
    "\n",
    "    def cost(self, X, y):                   # loss function\n",
    "        h = self.sigmoid(X.dot(self.weights))       \n",
    "        c = (-1.0/len(X))*(np.log(h).T.dot(y)+np.log(1-h).T.dot(1-y)) + \\\n",
    "            (self.l2/(2.0*(len(X))))*np.sum(np.square(self.weights[1:]))\n",
    "        return c\n",
    "\n",
    "\n",
    "    def fit(self, X, y, stop=False):\n",
    "        self.weights = np.ones((np.shape(X)[1], 1))\n",
    "        Y = np.reshape(y, (len(y), 1))            # reshape\n",
    "        for k in range(self.loop):\n",
    "            if stop:\n",
    "                break\n",
    "            for i in range(len(X)):\n",
    "                output = self.sigmoid(X[i].dot(self.weights))\n",
    "                diff = Y[i] - output\n",
    "                self.weights += self.alpha * 1.0/len(X) * np.reshape(X[i], (len(X[i]), 1)) * diff  # update weights\n",
    "                error = self.cost(X, y)\n",
    "                if error < self.epsilon:\n",
    "                    stop = True\n",
    "                    break\n",
    "        return self\n",
    "\n",
    "    def predict(self, x):\n",
    "        return [ self.sigmoid(x[i, :].dot(self.weights)) > 0.5 for i in range(len(x))]            # predict function\n",
    "\n",
    "    def score(self, X, y, **kwargs):\n",
    "        return accuracy_score(self.predict(X), y)"
   ]
  },
  {
   "cell_type": "code",
   "execution_count": 5,
   "metadata": {},
   "outputs": [
    {
     "name": "stderr",
     "output_type": "stream",
     "text": [
      "C:\\ProgramData\\Anaconda3\\lib\\site-packages\\sklearn\\model_selection\\_split.py:2026: FutureWarning: From version 0.21, test_size will always complement train_size unless both are specified.\n",
      "  FutureWarning)\n",
      "C:\\ProgramData\\Anaconda3\\lib\\site-packages\\ipykernel_launcher.py:14: RuntimeWarning: divide by zero encountered in log\n",
      "  \n",
      "C:\\ProgramData\\Anaconda3\\lib\\site-packages\\ipykernel_launcher.py:29: RuntimeWarning: invalid value encountered in less\n",
      "C:\\ProgramData\\Anaconda3\\lib\\site-packages\\ipykernel_launcher.py:10: RuntimeWarning: overflow encountered in exp\n",
      "  # Remove the CWD from sys.path while we load stuff.\n"
     ]
    },
    {
     "name": "stdout",
     "output_type": "stream",
     "text": [
      "LogisticRegression score: 0.929825\n",
      "From my scratch score: 0.929825\n"
     ]
    }
   ],
   "source": [
    "data = load_breast_cancer()\n",
    "X, y = data.data, data.target\n",
    "X_train, x_test, Y_train, y_test = train_test_split(X, y, train_size=0.9, random_state=111)\n",
    "logistic = linear_model.LogisticRegression()\n",
    "print('LogisticRegression score: %f' % logistic.fit(X_train, Y_train).score(x_test, y_test))\n",
    "\n",
    "scratch = LG_scratch()\n",
    "print('From my scratch score: %f' % scratch.fit(X_train, Y_train).score(x_test, y_test))"
   ]
  },
  {
   "cell_type": "code",
   "execution_count": null,
   "metadata": {},
   "outputs": [],
   "source": []
  }
 ],
 "metadata": {
  "kernelspec": {
   "display_name": "Python 3",
   "language": "python",
   "name": "python3"
  },
  "language_info": {
   "codemirror_mode": {
    "name": "ipython",
    "version": 3
   },
   "file_extension": ".py",
   "mimetype": "text/x-python",
   "name": "python",
   "nbconvert_exporter": "python",
   "pygments_lexer": "ipython3",
   "version": "3.6.4"
  }
 },
 "nbformat": 4,
 "nbformat_minor": 2
}
